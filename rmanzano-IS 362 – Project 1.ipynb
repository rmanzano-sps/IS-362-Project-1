{
 "cells": [
  {
   "cell_type": "code",
   "execution_count": 178,
   "metadata": {},
   "outputs": [
    {
     "data": {
      "text/html": [
       "<div>\n",
       "<style scoped>\n",
       "    .dataframe tbody tr th:only-of-type {\n",
       "        vertical-align: middle;\n",
       "    }\n",
       "\n",
       "    .dataframe tbody tr th {\n",
       "        vertical-align: top;\n",
       "    }\n",
       "\n",
       "    .dataframe thead th {\n",
       "        text-align: right;\n",
       "    }\n",
       "</style>\n",
       "<table border=\"1\" class=\"dataframe\">\n",
       "  <thead>\n",
       "    <tr style=\"text-align: right;\">\n",
       "      <th></th>\n",
       "      <th>Alaska On Time</th>\n",
       "      <th>Alaska Delayed</th>\n",
       "      <th>AM West On Time</th>\n",
       "      <th>AM West Delayed</th>\n",
       "    </tr>\n",
       "  </thead>\n",
       "  <tbody>\n",
       "    <tr>\n",
       "      <th>Los Angeles</th>\n",
       "      <td>497</td>\n",
       "      <td>62</td>\n",
       "      <td>694</td>\n",
       "      <td>117</td>\n",
       "    </tr>\n",
       "    <tr>\n",
       "      <th>Phoenix</th>\n",
       "      <td>221</td>\n",
       "      <td>12</td>\n",
       "      <td>4840</td>\n",
       "      <td>415</td>\n",
       "    </tr>\n",
       "    <tr>\n",
       "      <th>San Diego</th>\n",
       "      <td>212</td>\n",
       "      <td>20</td>\n",
       "      <td>383</td>\n",
       "      <td>65</td>\n",
       "    </tr>\n",
       "    <tr>\n",
       "      <th>San Francisco</th>\n",
       "      <td>503</td>\n",
       "      <td>102</td>\n",
       "      <td>320</td>\n",
       "      <td>129</td>\n",
       "    </tr>\n",
       "    <tr>\n",
       "      <th>Seattle</th>\n",
       "      <td>1841</td>\n",
       "      <td>305</td>\n",
       "      <td>201</td>\n",
       "      <td>61</td>\n",
       "    </tr>\n",
       "  </tbody>\n",
       "</table>\n",
       "</div>"
      ],
      "text/plain": [
       "              Alaska On Time Alaska Delayed AM West On Time AM West Delayed\n",
       "Los Angeles              497             62             694             117\n",
       "Phoenix                  221             12            4840             415\n",
       "San Diego                212             20             383              65\n",
       "San Francisco            503            102             320             129\n",
       "Seattle                 1841            305             201              61"
      ]
     },
     "execution_count": 178,
     "metadata": {},
     "output_type": "execute_result"
    }
   ],
   "source": [
    "# Created CSV file based on assignment example\n",
    "# Then I reorganized the cells to remove NaNs. Cleaning it up to handle the data better.\n",
    "\n",
    "import pandas as pd\n",
    "\n",
    "Location = r'~/Documents/airport_info.csv'\n",
    "new_header=[\"Alaska On Time\", \"Alaska Delayed\", \"AM West On Time\", \"AM West Delayed\"]\n",
    "\n",
    "df = pd.read_csv(Location)\n",
    "df = df.T\n",
    "df = df.rename(columns={0:\"Alaska On Time\", 1:\"Alaska Delayed\", 3:\"AM West On Time\", 4:\"AM West Delayed\"})\n",
    "df = df.dropna(thresh=2, axis='columns')\n",
    "df = df.drop(['Unnamed: 0', 'Unnamed: 1'])\n",
    "df"
   ]
  },
  {
   "cell_type": "code",
   "execution_count": 173,
   "metadata": {},
   "outputs": [
    {
     "data": {
      "text/plain": [
       "Los Angeles      11.0912\n",
       "Phoenix          5.15021\n",
       "San Diego        8.62069\n",
       "San Francisco    16.8595\n",
       "Seattle          14.2125\n",
       "Name: % of Alaska Delay, dtype: object"
      ]
     },
     "execution_count": 173,
     "metadata": {},
     "output_type": "execute_result"
    }
   ],
   "source": [
    "# I converted the numbers to a percentage. Taking the sum of 'on time' and 'delayed'\n",
    "# I then divided that by just the delayed flights. Multiplying the return by 100. Below are the results.\n",
    "\n",
    "df['Total Alaska'] = df['Alaska On Time'] + df['Alaska Delayed']\n",
    "df['% of Alaska Delay'] = (df['Alaska Delayed'] / df['Total Alaska']) * 100\n",
    "df['% of Alaska Delay']"
   ]
  },
  {
   "cell_type": "code",
   "execution_count": 165,
   "metadata": {},
   "outputs": [
    {
     "data": {
      "text/plain": [
       "Los Angeles      14.4266\n",
       "Phoenix          7.89724\n",
       "San Diego        14.5089\n",
       "San Francisco    28.7305\n",
       "Seattle          23.2824\n",
       "Name: Percentage of AM West Delay, dtype: object"
      ]
     },
     "execution_count": 165,
     "metadata": {},
     "output_type": "execute_result"
    }
   ],
   "source": [
    "# I converted the numbers to a percentage. Taking the sum of 'on time' and 'delayed'\n",
    "# I then divided that by just the delayed flights. Multiplying the return by 100. Below are the results.\n",
    "\n",
    "df['Total AM West'] = df['AM West On Time'] + df['AM West Delayed']\n",
    "df['% of AM West Delay'] = (df['AM West Delayed'] / df['Total AM West']) * 100\n",
    "df['% of AM West Delay']"
   ]
  },
  {
   "cell_type": "code",
   "execution_count": 177,
   "metadata": {},
   "outputs": [
    {
     "data": {
      "text/html": [
       "<div>\n",
       "<style scoped>\n",
       "    .dataframe tbody tr th:only-of-type {\n",
       "        vertical-align: middle;\n",
       "    }\n",
       "\n",
       "    .dataframe tbody tr th {\n",
       "        vertical-align: top;\n",
       "    }\n",
       "\n",
       "    .dataframe thead th {\n",
       "        text-align: right;\n",
       "    }\n",
       "</style>\n",
       "<table border=\"1\" class=\"dataframe\">\n",
       "  <thead>\n",
       "    <tr style=\"text-align: right;\">\n",
       "      <th></th>\n",
       "      <th>% of AM West Delay</th>\n",
       "      <th>% of Alaska Delay</th>\n",
       "    </tr>\n",
       "  </thead>\n",
       "  <tbody>\n",
       "    <tr>\n",
       "      <th>Los Angeles</th>\n",
       "      <td>14.4266</td>\n",
       "      <td>11.0912</td>\n",
       "    </tr>\n",
       "    <tr>\n",
       "      <th>Phoenix</th>\n",
       "      <td>7.89724</td>\n",
       "      <td>5.15021</td>\n",
       "    </tr>\n",
       "    <tr>\n",
       "      <th>San Diego</th>\n",
       "      <td>14.5089</td>\n",
       "      <td>8.62069</td>\n",
       "    </tr>\n",
       "    <tr>\n",
       "      <th>San Francisco</th>\n",
       "      <td>28.7305</td>\n",
       "      <td>16.8595</td>\n",
       "    </tr>\n",
       "    <tr>\n",
       "      <th>Seattle</th>\n",
       "      <td>23.2824</td>\n",
       "      <td>14.2125</td>\n",
       "    </tr>\n",
       "  </tbody>\n",
       "</table>\n",
       "</div>"
      ],
      "text/plain": [
       "              % of AM West Delay % of Alaska Delay\n",
       "Los Angeles              14.4266           11.0912\n",
       "Phoenix                  7.89724           5.15021\n",
       "San Diego                14.5089           8.62069\n",
       "San Francisco            28.7305           16.8595\n",
       "Seattle                  23.2824           14.2125"
      ]
     },
     "execution_count": 177,
     "metadata": {},
     "output_type": "execute_result"
    }
   ],
   "source": [
    "# Comparing the arrival delays for the two airlines. We are now able to see that AM West Airlines\n",
    "# has the most delays\n",
    "\n",
    "df[['% of AM West Delay', '% of Alaska Delay']]"
   ]
  }
 ],
 "metadata": {
  "kernelspec": {
   "display_name": "Python 3",
   "language": "python",
   "name": "python3"
  },
  "language_info": {
   "codemirror_mode": {
    "name": "ipython",
    "version": 3
   },
   "file_extension": ".py",
   "mimetype": "text/x-python",
   "name": "python",
   "nbconvert_exporter": "python",
   "pygments_lexer": "ipython3",
   "version": "3.6.5"
  }
 },
 "nbformat": 4,
 "nbformat_minor": 2
}
